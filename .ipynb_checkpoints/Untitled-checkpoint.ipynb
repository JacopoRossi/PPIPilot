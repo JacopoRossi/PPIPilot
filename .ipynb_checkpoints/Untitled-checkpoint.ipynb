{
 "cells": [
  {
   "cell_type": "code",
   "execution_count": 128,
   "id": "28529786",
   "metadata": {},
   "outputs": [],
   "source": [
    "import re\n",
    "import pandas as pd\n",
    "import numpy as np"
   ]
  },
  {
   "cell_type": "code",
   "execution_count": 11,
   "id": "83b0f231",
   "metadata": {},
   "outputs": [],
   "source": [
    "def obtener_frases_distintas(frases):\n",
    "    # Eliminar palabras entre comillas simples\n",
    "    frases_sin_comillas = [re.sub(r\"'[^']*'\", '', frase) for frase in frases]\n",
    "\n",
    "    # Devolver frases distintas\n",
    "    return set(frases_sin_comillas)"
   ]
  },
  {
   "cell_type": "code",
   "execution_count": 19,
   "id": "651d09ea",
   "metadata": {},
   "outputs": [],
   "source": [
    "df = pd.read_csv('2024-05-03T12-42_export.csv')"
   ]
  },
  {
   "cell_type": "code",
   "execution_count": 20,
   "id": "2e51cfbb",
   "metadata": {},
   "outputs": [],
   "source": [
    "ls = df['metric'].tolist()"
   ]
  },
  {
   "cell_type": "code",
   "execution_count": 21,
   "id": "676ff8e7",
   "metadata": {},
   "outputs": [],
   "source": [
    "dic = obtener_frases_distintas(ls)"
   ]
  },
  {
   "cell_type": "code",
   "execution_count": 22,
   "id": "db52c011",
   "metadata": {
    "scrolled": false
   },
   "outputs": [
    {
     "name": "stdout",
     "output_type": "stream",
     "text": [
      "the average of the number of times `ACTIVITY` ==  \n",
      "\n",
      "the average of the number of times `ACTIVITY` ==  filtered by the function ma > 0 where ma is the number of times `ACTIVITY` ==  \n",
      "\n",
      "ERROR: computing metric {} \n",
      "\n",
      "ERROR: computing metric {: \"activity == \", : , : , : } \n",
      "\n",
      "the average of the number of times `ACTIVITY` ==  filtered by the function ma > 0 where ma is the number of times `ACTIVITY` !=  \n",
      "\n"
     ]
    }
   ],
   "source": [
    "for el in dic:\n",
    "    print(el , \"\\n\")"
   ]
  },
  {
   "cell_type": "code",
   "execution_count": 1,
   "id": "ce9e27c3",
   "metadata": {},
   "outputs": [],
   "source": [
    "def metric_changing_name(metric):\n",
    "    # Definir los patrones y sus correspondientes sustituciones\n",
    "    patrones_sustituciones = [\n",
    "        (\"the average of the number of times `ACTIVITY` =='\", \"Average frequency of activity '\"),\n",
    "        (\"' filtered by the function ma =='\", \"' for cases where the last value of org:role is '\"),\n",
    "        (\" where ma is the last value of org:role\", \"\"),\n",
    "        (\"' filtered by the function ma > 0 where ma is the number of times `ACTIVITY` !='\", \"' for cases where activity '\"),\n",
    "        (\"' filtered by the function ma > 0 where ma is the number of times `ACTIVITY` =='\", \"' for cases where activity '\"),\n",
    "        (\"' filtered by the function ma \", \"' for cases where \"),\n",
    "        (\" where ma is the last value of \", \" \"),\n",
    "        (\"'\", \"\"),  # Eliminar comillas finales\n",
    "    ]\n",
    "    \n",
    "    # Aplicar las sustituciones\n",
    "    for patron, sustitucion in patrones_sustituciones:\n",
    "        metric = metric.replace(patron, sustitucion)\n",
    "    \n",
    "    return metric\n",
    "\n"
   ]
  },
  {
   "cell_type": "code",
   "execution_count": 2,
   "id": "fa7d0289",
   "metadata": {},
   "outputs": [
    {
     "name": "stdout",
     "output_type": "stream",
     "text": [
      "Average frequency of activity xxx for cases where the last value of org:role is YY\n"
     ]
    }
   ],
   "source": [
    "# Ejemplo de uso\n",
    "metric = \"the average of the number of times `ACTIVITY` == 'xxx' filtered by the function ma == 'YY' where ma is the last value of org:role\"\n",
    "nueva_metrica = metric_changing_name(metric)\n",
    "print(nueva_metrica)\n"
   ]
  },
  {
   "cell_type": "code",
   "execution_count": 37,
   "id": "c1125273",
   "metadata": {},
   "outputs": [],
   "source": [
    "ls = [\"the average of the number of times `ACTIVITY` == 'XXX'\", \n",
    "      \"the average of the number of times `ACTIVITY` == 'xxx' filtered by the function ma == 'YY' where ma is the last value of org:role\",\n",
    "     \"the average of the number of times `ACTIVITY` == 'XXX' filtered by the function ma > 0 where ma is the number of times `ACTIVITY` !='YYY'\",\n",
    "     \"the average of the number of times `ACTIVITY` == 'XXX' filtered by the function ma > 0 where ma is the number of times `ACTIVITY` == 'YYY'\",\n",
    "      \"the average of the number of times `ACTIVITY` == 'XXX' filtered by the function ma 'PPPP' where ma is the last value of 'ZZZZ'\", \n",
    "      \"the average of the number of times `ACTIVITY` == 'XXX' grouped by the last value of case:'actividad'\"\n",
    "     ]"
   ]
  },
  {
   "cell_type": "code",
   "execution_count": 43,
   "id": "5a76a01e",
   "metadata": {},
   "outputs": [
    {
     "name": "stdout",
     "output_type": "stream",
     "text": [
      "Average frequency of activity XXX\n",
      "Average frequency of activity xxx for cases where the last value of org:role is YY\n",
      "Average frequency of activity XXX for cases where > 0 where ma is the number of times `ACTIVITY` !=YYY\n",
      "Average frequency of activity XXX for cases where activity YYY\n",
      "Average frequency of activity XXX for cases where PPPP ZZZZ\n",
      "Average frequency of activity XXX grouped by the last value of case:actividad\n"
     ]
    }
   ],
   "source": [
    "for el in ls:\n",
    "    metrica = metric_changing_name(el)\n",
    "    print(metrica)"
   ]
  },
  {
   "cell_type": "code",
   "execution_count": 102,
   "id": "e47581fb",
   "metadata": {},
   "outputs": [],
   "source": [
    "def metric_changing_name(metric):\n",
    "    act1=metric.split(\"'\")[1]\n",
    "    if len(metric.split(\"'\"))>3:\n",
    "        act2 = metric.split(\"'\")[3]\n",
    "    else:\n",
    "        act2=None\n",
    "    # Definir los patrones y sus correspondientes sustituciones\n",
    "    patrones_sustituciones = [\n",
    "        (\"the average of the number of times `ACTIVITY` == '\", \"Average frequency of activity '\"),\n",
    "        (\"' filtered by the function ma == '\", \"' for cases where the last value of org:role is '\"),\n",
    "        (\" where ma is the last value of org:role\", \"\"),\n",
    "        (\"' filtered by the function ma > 0 where ma is the number of times `ACTIVITY` != '{}'\".format(act2), \"' for cases where activity {} does not occur'\".format(act2)),\n",
    "        (\"' filtered by the function ma > 0 where ma is the number of times `ACTIVITY` == '{}'\".format(act2), \"' for cases where activity {} occurs'\".format(act2)),\n",
    "        (\"' filtered by the function ma \", \"' for cases where \"),\n",
    "        (\" where ma is the last value of \", \" \"),\n",
    "        (\"'\", \"\"),  # Eliminar comillas finales\n",
    "    ]\n",
    "    copia = metric\n",
    "    # Aplicar las sustituciones\n",
    "    for patron, sustitucion in patrones_sustituciones:\n",
    "        metric = metric.replace(patron, sustitucion)\n",
    "    if \"filtered by the function ma\" in copia and \"by the function ma ==\" not in copia and \"where ma is the last value of\" in copia:\n",
    "        t = metric.split(' ')\n",
    "        p = t[-1]\n",
    "        z = t[-2]\n",
    "        op = t[-3]\n",
    "        t[-1] = z\n",
    "        t[-2] = op\n",
    "        t[-3] = p\n",
    "        metric = ' '.join(t)\n",
    "    \n",
    "    return metric"
   ]
  },
  {
   "cell_type": "code",
   "execution_count": 103,
   "id": "ea67ff7f",
   "metadata": {},
   "outputs": [],
   "source": [
    "prueba=[\"the average of the number of times `ACTIVITY` == 'Declaration SUBMITTED by EMPLOYEE'\",\n",
    "    \"the average of the number of times `ACTIVITY` == 'Declaration SUBMITTED by EMPLOYEE' filtered by the function ma == 'STAFF MEMBER' where ma is the last value of org:role\",\n",
    "    \"the average of the number of times `ACTIVITY` == 'Declaration FINAL_APPROVED by SUPERVISOR' filtered by the function ma > 0 where ma is the number of times `ACTIVITY` != 'Declaration SUBMITTED by EMPLOYEE'\",\n",
    "    \"the average of the number of times `ACTIVITY` == 'Declaration SUBMITTED by EMPLOYEE' filtered by the function ma > 0 where ma is the number of times `ACTIVITY` == 'Declaration APPROVED by ADMINISTRATION'\",\n",
    "    \"the average of the number of times `ACTIVITY` == 'Declaration SUBMITTED by EMPLOYEE' grouped by the last value of org:resource\",\n",
    "    \"the average of the number of times `ACTIVITY` == 'Declaration SUBMITTED by EMPLOYEE' filtered by the function ma > 100 where ma is the last value of case:Amount\"\n",
    "       ]"
   ]
  },
  {
   "cell_type": "code",
   "execution_count": 104,
   "id": "ecc1ff15",
   "metadata": {},
   "outputs": [
    {
     "name": "stdout",
     "output_type": "stream",
     "text": [
      "Average frequency of activity Declaration SUBMITTED by EMPLOYEE\n",
      "Average frequency of activity Declaration SUBMITTED by EMPLOYEE for cases where the last value of org:role is STAFF MEMBER\n",
      "Average frequency of activity Declaration FINAL_APPROVED by SUPERVISOR for cases where activity Declaration SUBMITTED by EMPLOYEE does not occur\n",
      "Average frequency of activity Declaration SUBMITTED by EMPLOYEE for cases where activity Declaration APPROVED by ADMINISTRATION occurs\n",
      "Average frequency of activity Declaration SUBMITTED by EMPLOYEE grouped by the last value of org:resource\n",
      "Average frequency of activity Declaration SUBMITTED by EMPLOYEE for cases where case:Amount > 100\n"
     ]
    }
   ],
   "source": [
    "for el in prueba:\n",
    "    metrica = metric_changing_name(el)\n",
    "    print(metrica)"
   ]
  },
  {
   "cell_type": "code",
   "execution_count": 109,
   "id": "81c41a04",
   "metadata": {},
   "outputs": [],
   "source": [
    "def metric_changing_name_nuevo(metric):\n",
    "    if len(metric.split(\"'\"))>1:\n",
    "        act1=metric.split(\"'\")[1]\n",
    "    if len(metric.split(\"'\"))>3:\n",
    "        act2 = metric.split(\"'\")[3]\n",
    "    else:\n",
    "        act2=None\n",
    "    # Definir los patrones y sus correspondientes sustituciones\n",
    "    patrones_sustituciones = [\n",
    "        (\"the sum of the number of times `ACTIVITY` == '{}\".format(act1), \"Number of {} activities '\".format(act1)),\n",
    "        (\"the average of the function base > 0 where base is the number of times `ACTIVITY` == '{}' filtered by the function ma > 0 where ma is the number of times `ACTIVITY` == '{}'\".format(act1,act2),\"Percentage of {} out of all {}\".format(act1,act2)),\n",
    "        (\"' filtered by the function ma == '\", \"' for cases where the last value of org:role is '\"),\n",
    "        (\" where ma is the last value of org:role\", \"\"),\n",
    "        (\"the average of the function base > 0 where base is the number of times `ACTIVITY` == '{}'\".format(act1), \"Percentage of {} out of all cases\".format(act1)),\n",
    "        \n",
    "        (\"' filtered by the function ma > 0 where ma is the number of times `ACTIVITY` != '{}'\".format(act2), \"' for cases where activity {} does not occur'\".format(act2)),\n",
    "        (\"' filtered by the function ma > 0 where ma is the number of times `ACTIVITY` == '{}'\".format(act2), \"' for cases where activity {} occurs'\".format(act2)),\n",
    "        (\"' filtered by the function ma \", \"' for cases where \"),\n",
    "        (\" where ma is the last value of \", \" \"),\n",
    "        (\"'\", \"\"),  # Eliminar comillas finales\n",
    "    ]\n",
    "    copia = metric\n",
    "    # Aplicar las sustituciones\n",
    "    for patron, sustitucion in patrones_sustituciones:\n",
    "        metric = metric.replace(patron, sustitucion)\n",
    "    if \"filtered by the function ma\" in copia and \"by the function ma ==\" not in copia and \"where ma is the last value of\" in copia:\n",
    "        t = metric.split(' ')\n",
    "        p = t[-1]\n",
    "        z = t[-2]\n",
    "        op = t[-3]\n",
    "        t[-1] = z\n",
    "        t[-2] = op\n",
    "        t[-3] = p\n",
    "        metric = ' '.join(t)\n",
    "    \n",
    "    return metric\n"
   ]
  },
  {
   "cell_type": "code",
   "execution_count": 110,
   "id": "4e798a0d",
   "metadata": {},
   "outputs": [
    {
     "data": {
      "text/plain": [
       "'the average of the function base > 0 where base is the number of times `ACTIVITY` == Payment Handled for cases where activity Request Payment occurs'"
      ]
     },
     "execution_count": 110,
     "metadata": {},
     "output_type": "execute_result"
    }
   ],
   "source": [
    "metric_changing_name(\"the average of the function base > 0 where base is the number of times `ACTIVITY` == 'Payment Handled' filtered by the function ma > 0 where ma is the number of times `ACTIVITY` == 'Request Payment'\")"
   ]
  },
  {
   "cell_type": "code",
   "execution_count": 133,
   "id": "f9821761",
   "metadata": {},
   "outputs": [],
   "source": [
    "def changing_names(metric):\n",
    "    if len(metric.split(\"'\"))>1:\n",
    "        act1=metric.split(\"'\")[1]\n",
    "    if len(metric.split(\"'\"))>3:\n",
    "        act2 = metric.split(\"'\")[3]\n",
    "    else:\n",
    "        act2=None\n",
    "    if \"the sum of the number of times `ACTIVITY` == '{}' filtered by the function ma > 0 where ma is the number of times `ACTIVITY` != '{}'\".format(act1,act2) in metric:\n",
    "        metric = metric.replace(\"the sum of the number of times `ACTIVITY` == '{}' filtered by the function ma > 0 where ma is the number of times `ACTIVITY` != '{}'\".format(act1,act2),\"Number of '{}' activities for cases where activity '{}' does not occur\".format(act1,act2))\n",
    "    \n",
    "    elif \"the sum of the number of times `ACTIVITY` == '{}' filtered by the function ma > 0 where ma is the number of times `ACTIVITY` == '{}'\".format(act1,act2) in metric:\n",
    "        metric = metric.replace(\"the sum of the number of times `ACTIVITY` == '{}' filtered by the function ma > 0 where ma is the number of times `ACTIVITY` == '{}'\".format(act1,act2),\"Number of '{}' activities for cases where activity '{}' occurs\".format(act1,act2)) \n",
    "    \n",
    "    elif \"the sum of the number of times `ACTIVITY` == '{}' filtered by the function ma\".format(act1) in metric and \"where ma is the last value of '{}'\".format(act2):\n",
    "        metric = metric.replace(\"the sum of the number of times `ACTIVITY` == '{}' filtered by the function ma\".format(act1),\"Number of '{}' activities\".format(act1))\n",
    "        metric = metric.replace(\"where ma is the last value of '{}'\".format(act2), \"for cases where '{}'\".format(act2))\n",
    "        ##mirar bien\n",
    "    \n",
    "    elif \"the sum of the number of times `ACTIVITY` == '{}'\".format(act1) in metric:\n",
    "        metric = metric.replace(\"the sum of the number of times `ACTIVITY` == '{}'\".format(act1), \"Number of '{}' activities\".format(act1))\n",
    "        \n",
    "    elif \"the average of the function base > 0 where base is the number of times `ACTIVITY` == '{}' filtered by the function ma > 0 where ma is the number of times `ACTIVITY` == '{}'\".format(act1,act2) in metric:\n",
    "        metric = metric.replace(\"the average of the function base > 0 where base is the number of times `ACTIVITY` == '{}' filtered by the function ma > 0 where ma is the number of times `ACTIVITY` == '{}'\".format(act1,act2),\"Percentage of '{}' out of all '{}'\".format(act1,act2))\n",
    "    \n",
    "    return metric"
   ]
  },
  {
   "cell_type": "code",
   "execution_count": 124,
   "id": "19f46a14",
   "metadata": {},
   "outputs": [
    {
     "data": {
      "text/plain": [
       "\"Number of 'Payment Handled' activities for cases where activity 'Declaration REJECTED by PRE_APPROVER' occurs\""
      ]
     },
     "execution_count": 124,
     "metadata": {},
     "output_type": "execute_result"
    }
   ],
   "source": [
    "changing_names(\"the sum of the number of times `ACTIVITY` == 'Payment Handled' filtered by the function ma > 0 where ma is the number of times `ACTIVITY` == 'Declaration REJECTED by PRE_APPROVER'\")"
   ]
  },
  {
   "cell_type": "code",
   "execution_count": 126,
   "id": "988a6fda",
   "metadata": {},
   "outputs": [],
   "source": [
    "probando = \"2024-05-10T10-30_export.csv\""
   ]
  },
  {
   "cell_type": "code",
   "execution_count": 130,
   "id": "1c3ae85d",
   "metadata": {},
   "outputs": [],
   "source": [
    "df = pd.read_csv(probando)"
   ]
  },
  {
   "cell_type": "code",
   "execution_count": 132,
   "id": "b93476c8",
   "metadata": {},
   "outputs": [],
   "source": [
    "ls = df['Metric'].tolist()"
   ]
  },
  {
   "cell_type": "code",
   "execution_count": 134,
   "id": "83efa2c3",
   "metadata": {},
   "outputs": [
    {
     "name": "stdout",
     "output_type": "stream",
     "text": [
      "Percentage of 'Payment Handled' out of all 'Request Payment'\n",
      "the average of the function base > 0 where base is the number of times `ACTIVITY` == 'Payment Handled' grouped by the last value of org:resource\n",
      "the average of the function base > 0 where base is the number of times `ACTIVITY` == 'Payment Handled' grouped by the last value of org:resource\n",
      "Number of 'Payment Handled' activities for cases where activity 'Declaration SUBMITTED by EMPLOYEE' occurs\n",
      "Number of 'Payment Handled' activities for cases where activity 'Declaration FINAL_APPROVED by SUPERVISOR' occurs\n",
      "Percentage of 'Payment Handled' out of all 'Declaration APPROVED by ADMINISTRATION'\n",
      "Number of 'Payment Handled' activities for cases where activity 'Declaration REJECTED by PRE_APPROVER' does not occur\n",
      "Percentage of 'Payment Handled' out of all 'Declaration APPROVED by BUDGET OWNER'\n",
      "Number of 'Payment Handled' activities for cases where activity 'Declaration REJECTED by PRE_APPROVER' does not occur\n",
      "Percentage of 'Payment Handled' out of all 'Declaration SUBMITTED by EMPLOYEE'\n",
      "Number of 'Payment Handled' activities for cases where activity 'Declaration REJECTED by ADMINISTRATION' occurs\n",
      "Percentage of 'Payment Handled' out of all 'Declaration APPROVED by PRE_APPROVER'\n",
      "Number of 'Payment Handled' activities grouped by the last value of case:BudgetNumber\n",
      "Percentage of 'Payment Handled' out of all 'Declaration REJECTED by EMPLOYEE'\n"
     ]
    }
   ],
   "source": [
    "for el in ls:\n",
    "    print(changing_names(el))"
   ]
  },
  {
   "cell_type": "code",
   "execution_count": 167,
   "id": "f5acee63",
   "metadata": {},
   "outputs": [],
   "source": [
    "def changing_names_time(metric):\n",
    "    if len(metric.split(\"'\"))>1:\n",
    "        act1=metric.split(\"'\")[1]\n",
    "    else:\n",
    "        act1=None\n",
    "    if len(metric.split(\"'\"))>3:\n",
    "        act2 = metric.split(\"'\")[3]\n",
    "    else: \n",
    "        act2 = None\n",
    "    \n",
    "    if \"the average of the duration between the first time instant when `ACTIVITY` == '{}' and the last time instant when <\".format(act1) in metric and \"grouped by the last value of\" in metric:\n",
    "        print(\"debería entrar aqui\")\n",
    "        patron = r'<(.*?)PROCESS'\n",
    "        coincidencias = re.findall(patron, metric)\n",
    "        metric = metric.replace(\"the average of the duration between the first time instant when `ACTIVITY` == '{}' and the last time instant when <{}PROCESS\".format(act1,coincidencias[0]),\n",
    "                                \"The average of the duration between activity '{}' and the end of case\".format(act1))\n",
    "    \n",
    "    elif \"the sum of the duration between the first time instant when `ACTIVITY` == '{}' and the last time instant when <\".format(act1) in metric and \"grouped by the last value of\" in metric:\n",
    "        patron = r'<(.*?)PROCESS'\n",
    "        coincidencias = re.findall(patron, metric)\n",
    "        metric = metric.replace(\"the sum of the duration between the first time instant when `ACTIVITY` == '{}' and the last time instant when <{}PROCESS\".format(act1,coincidencias[0]),\"The average of the duration between activity '{}' and the end of case\".format(act1))\n",
    "       \n",
    "    elif \"the minimum of the duration between the first time instant when `ACTIVITY` == '{}' and the last time instant when <\".format(act1) in metric and \"grouped by the last value of\" in metric:\n",
    "        patron = r'<(.*?)PROCESS'\n",
    "        coincidencias = re.findall(patron, metric)\n",
    "        metric = metric.replace(\"the minimum of the duration between the first time instant when `ACTIVITY` == '{}' and the last time instant when <{}PROCESS\".format(act1,coincidencias[0]),\"The average of the duration between activity '{}' and the end of case\".format(act1))\n",
    "\n",
    "    elif \"the sum of the duration between the first time instant when <\" in metric and \"filtered by the function ma\" in metric:\n",
    "        metric = metric.replace(metric, \"The sum of the duration between the beginning of the case and activity '{}' for cases where activity '{}' occurs\".format(act1))\n",
    "            \n",
    "    elif \"the average of the duration between the first time instant when `ACTIVITY` == '{}' and the last time instant when `ACTIVITY` == '{}' filtered by the function ma > 0 where ma is the number of times `ACTIVITY` == '{}'\".format(act1, act2, act2) in metric:\n",
    "        metric = metric.replace(metric,\"The average of the duration between activity {} and activity {} for cases where activity {} occurs\".format(act1,act2,act2))\n",
    "    \n",
    "    elif \"the sum of the duration between the first time instant when `ACTIVITY` == '{}' and the last time instant when `ACTIVITY` == '{}' filtered by the function ma > 0 where ma is the number of times `ACTIVITY` == '{}'\".format(act1, act2, act2) in metric:\n",
    "        metric = metric.replace(metric,\"The sum of the duration between activity {} and activity {} for cases where activity {} occurs\".format(act1,act2,act2))\n",
    "        \n",
    "    elif \"the minimum of the duration between the first time instant when `ACTIVITY` == '{}' and the last time instant when `ACTIVITY` == '{}' filtered by the function ma > 0 where ma is the number of times `ACTIVITY` == '{}'\".format(act1, act2, act2) in metric:\n",
    "        metric = metric.replace(metric,\"The minimum of the duration between activity {} and activity {} for cases where activity {} occurs\".format(act1,act2,act2))\n",
    "\n",
    "    elif \"the average of the duration between the first time instant when `ACTIVITY` == '{}' and the last time instant when `ACTIVITY` == '{}' filtered by the function ma > 0 where ma is the number of times `ACTIVITY` != '{}'\".format(act1, act2, act2) in metric:\n",
    "        metric = metric.replace(metric,\"The average of the duration between activity {} and activity {} for cases where activity {} does not occur\".format(act1,act2,act2))\n",
    "        \n",
    "    elif \"the sum of the duration between the first time instant when `ACTIVITY` == '{}' and the last time instant when `ACTIVITY` == '{}' filtered by the function ma > 0 where ma is the number of times `ACTIVITY` != '{}'\".format(act1, act2, act2) in metric:\n",
    "        metric = metric.replace(metric,\"The sum of the duration between activity {} \\\n",
    "        and activity {} for cases where activity {} does not occur\".format(act1,act2,act2))\n",
    "        \n",
    "    elif \"the minimum of the duration between the first time instant when `ACTIVITY` == '{}' \\\n",
    "    and the last time instant when `ACTIVITY` == '{}' filtered by the function ma > 0 where ma \\\n",
    "    is the number of times `ACTIVITY` != '{}'\".format(act1, act2, act2) in metric:\n",
    "        metric = metric.replace(metric,\"The average of the duration between activity {} and activity {} for cases where activity {} does not occur\".format(act1,act2,act2))\n",
    "        \n",
    "    elif \"the average of the duration between the first time instant when `ACTIVITY` == '{}' and the last time instant when <\" in metric:\n",
    "        metric = metric.replace(metric, \"The average of the duration between activity {} and the end of the case\".format(act1))\n",
    "        \n",
    "    elif \"the sum of the duration between the first time instant when `ACTIVITY` == '{}' and the last time instant when <\" in metric:\n",
    "        metric = metric.replace(metric, \"The sum of the duration between activity {} and the end of the case\".format(act1))\n",
    "      \n",
    "    elif \"the minimum of the duration between the first time instant when `ACTIVITY` == '{}' and the last time instant when <\" in metric:\n",
    "        metric = metric.replace(metric, \"The minimum of the duration between activity {} and the end of the case\".format(act1))\n",
    "    \n",
    "    elif \"the average of the duration between the first time instant when `ACTIVITY` == '{}' and the last time instant when `ACTIVITY` == '{}'\".format(act1,act2):\n",
    "        metric = metric.replace(metric,\"The average of the duration between activity '{}' and activity '{}'\".format(act1,act2))\n",
    "    \n",
    "    elif \"the sum of the duration between the first time instant when `ACTIVITY` == '{}' and the last time instant when `ACTIVITY` == '{}'\".format(act1,act2):\n",
    "        metric = metric.replace(metric,\"The sum of the duration between activity '{}' and activity '{}'\".format(act1,act2))\n",
    "    \n",
    "    elif \"the minimum of the duration between the first time instant when `ACTIVITY` == '{}' and the last time instant when `ACTIVITY` == '{}'\".format(act1,act2):\n",
    "        metric = metric.replace(metric,\"The minimum of the duration between activity '{}' and activity '{}'\".format(act1,act2))\n",
    "    \n",
    "    return metric"
   ]
  },
  {
   "cell_type": "code",
   "execution_count": 168,
   "id": "abc1fba9",
   "metadata": {},
   "outputs": [
    {
     "name": "stdout",
     "output_type": "stream",
     "text": [
      "debería entrar aqui\n"
     ]
    },
    {
     "data": {
      "text/plain": [
       "\"The average of the duration between activity 'Payment Handled' and the end of case grouped by the last value of org:role\""
      ]
     },
     "execution_count": 168,
     "metadata": {},
     "output_type": "execute_result"
    }
   ],
   "source": [
    "changing_names_time(\"the average of the duration between the first time instant when `ACTIVITY` == 'Payment Handled' and the last time instant when <ppinot4py.model.states.RuntimeState object at 0x000002D885F19640> - AppliesTo.PROCESS grouped by the last value of org:role\")"
   ]
  },
  {
   "cell_type": "code",
   "execution_count": null,
   "id": "1f29b951",
   "metadata": {},
   "outputs": [],
   "source": []
  }
 ],
 "metadata": {
  "kernelspec": {
   "display_name": "Python 3 (ipykernel)",
   "language": "python",
   "name": "python3"
  },
  "language_info": {
   "codemirror_mode": {
    "name": "ipython",
    "version": 3
   },
   "file_extension": ".py",
   "mimetype": "text/x-python",
   "name": "python",
   "nbconvert_exporter": "python",
   "pygments_lexer": "ipython3",
   "version": "3.9.13"
  }
 },
 "nbformat": 4,
 "nbformat_minor": 5
}
